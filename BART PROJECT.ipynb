{
 "cells": [
  {
   "cell_type": "markdown",
   "id": "0141e70c",
   "metadata": {},
   "source": [
    "## Bu projede San Francisco BART istasyonuyla ilgi li veri analizi yapıp aşağıdaki soruların cevabını bulacağız.\n",
    "1. En yoğun BART istasyonu hangisidir?\n",
    "2. En az popüler olan BART rotası hangisidir?\n",
    "3. Koltukta yolculuk yapmak istiyorsanız Berkeley'den San Fransisco'ya gitmek için en iyi zaman ne zamandır?\n",
    "4. Haftanın en yoğun günü hangisidir?\n",
    "5. BART'ı gece geç saatte kaç kişi kullanıyor?"
   ]
  },
  {
   "cell_type": "code",
   "execution_count": 1,
   "id": "f7b69384",
   "metadata": {},
   "outputs": [],
   "source": [
    "import pandas as pd\n",
    "import numpy as np\n",
    "import matplotlib.pyplot as plt\n",
    "import seaborn as sns\n",
    "import warnings\n",
    "warnings.filterwarnings(\"ignore\")\n",
    "pd.set_option(\"display.max_columns\",100)\n",
    "\n",
    "from sklearn.linear_model import LinearRegression\n",
    "from sklearn.linear_model import Ridge,Lasso\n",
    "from sklearn.linear_model import ElasticNet\n",
    "from sklearn.neighbors import KNeighborsRegressor\n",
    "from sklearn.ensemble import GradientBoostingRegressor\n",
    "from sklearn.tree import ExtraTreeRegressor\n",
    "from sklearn.tree import DecisionTreeRegressor\n",
    "from xgboost import XGBRegressor\n",
    "from sklearn.model_selection import train_test_split\n",
    "from sklearn.metrics import mean_squared_error,r2_score,mean_absolute_error"
   ]
  },
  {
   "cell_type": "code",
   "execution_count": null,
   "id": "ddd36bbb",
   "metadata": {},
   "outputs": [],
   "source": [
    "#dosyaya resim eklemek istedim fakat kodum çalışmadı,"
   ]
  },
  {
   "cell_type": "code",
   "execution_count": 2,
   "id": "c95d3323",
   "metadata": {},
   "outputs": [],
   "source": [
    "df1=pd.read_csv('date-hour-soo-dest-2016.csv')"
   ]
  },
  {
   "cell_type": "code",
   "execution_count": 3,
   "id": "32097ec5",
   "metadata": {},
   "outputs": [],
   "source": [
    "df2=pd.read_csv('date-hour-soo-dest-2017.csv')"
   ]
  },
  {
   "cell_type": "code",
   "execution_count": 4,
   "id": "9d10b7de",
   "metadata": {},
   "outputs": [],
   "source": [
    "df=pd.concat([df1,df2])\n",
    "#her iki datayı concat koduyla merge ettik"
   ]
  },
  {
   "cell_type": "code",
   "execution_count": 5,
   "id": "fa0c65d5",
   "metadata": {},
   "outputs": [
    {
     "data": {
      "text/html": [
       "<div>\n",
       "<style scoped>\n",
       "    .dataframe tbody tr th:only-of-type {\n",
       "        vertical-align: middle;\n",
       "    }\n",
       "\n",
       "    .dataframe tbody tr th {\n",
       "        vertical-align: top;\n",
       "    }\n",
       "\n",
       "    .dataframe thead th {\n",
       "        text-align: right;\n",
       "    }\n",
       "</style>\n",
       "<table border=\"1\" class=\"dataframe\">\n",
       "  <thead>\n",
       "    <tr style=\"text-align: right;\">\n",
       "      <th></th>\n",
       "      <th>Date</th>\n",
       "      <th>Hour</th>\n",
       "      <th>Origin Station</th>\n",
       "      <th>Destination Station</th>\n",
       "      <th>Trip Count</th>\n",
       "    </tr>\n",
       "  </thead>\n",
       "  <tbody>\n",
       "    <tr>\n",
       "      <th>9974090</th>\n",
       "      <td>2018-01-01</td>\n",
       "      <td>2</td>\n",
       "      <td>WOAK</td>\n",
       "      <td>POWL</td>\n",
       "      <td>3</td>\n",
       "    </tr>\n",
       "    <tr>\n",
       "      <th>9974091</th>\n",
       "      <td>2018-01-01</td>\n",
       "      <td>2</td>\n",
       "      <td>WOAK</td>\n",
       "      <td>RICH</td>\n",
       "      <td>1</td>\n",
       "    </tr>\n",
       "    <tr>\n",
       "      <th>9974092</th>\n",
       "      <td>2018-01-01</td>\n",
       "      <td>2</td>\n",
       "      <td>WOAK</td>\n",
       "      <td>SBRN</td>\n",
       "      <td>1</td>\n",
       "    </tr>\n",
       "    <tr>\n",
       "      <th>9974093</th>\n",
       "      <td>2018-01-01</td>\n",
       "      <td>2</td>\n",
       "      <td>WOAK</td>\n",
       "      <td>SHAY</td>\n",
       "      <td>2</td>\n",
       "    </tr>\n",
       "    <tr>\n",
       "      <th>9974094</th>\n",
       "      <td>2018-01-01</td>\n",
       "      <td>2</td>\n",
       "      <td>WOAK</td>\n",
       "      <td>WOAK</td>\n",
       "      <td>2</td>\n",
       "    </tr>\n",
       "  </tbody>\n",
       "</table>\n",
       "</div>"
      ],
      "text/plain": [
       "               Date  Hour Origin Station Destination Station  Trip Count\n",
       "9974090  2018-01-01     2           WOAK                POWL           3\n",
       "9974091  2018-01-01     2           WOAK                RICH           1\n",
       "9974092  2018-01-01     2           WOAK                SBRN           1\n",
       "9974093  2018-01-01     2           WOAK                SHAY           2\n",
       "9974094  2018-01-01     2           WOAK                WOAK           2"
      ]
     },
     "execution_count": 5,
     "metadata": {},
     "output_type": "execute_result"
    }
   ],
   "source": [
    "df.tail()"
   ]
  },
  {
   "cell_type": "code",
   "execution_count": 6,
   "id": "f181ef1a",
   "metadata": {},
   "outputs": [
    {
     "data": {
      "text/plain": [
       "(19947757, 5)"
      ]
     },
     "execution_count": 6,
     "metadata": {},
     "output_type": "execute_result"
    }
   ],
   "source": [
    "df.shape"
   ]
  },
  {
   "cell_type": "code",
   "execution_count": 7,
   "id": "6d33e4fb",
   "metadata": {
    "collapsed": true,
    "jupyter": {
     "outputs_hidden": true
    }
   },
   "outputs": [
    {
     "name": "stdout",
     "output_type": "stream",
     "text": [
      "<class 'pandas.core.frame.DataFrame'>\n",
      "Int64Index: 19947757 entries, 0 to 9974094\n",
      "Data columns (total 5 columns):\n",
      " #   Column               Dtype \n",
      "---  ------               ----- \n",
      " 0   Date                 object\n",
      " 1   Hour                 int64 \n",
      " 2   Origin Station       object\n",
      " 3   Destination Station  object\n",
      " 4   Trip Count           int64 \n",
      "dtypes: int64(2), object(3)\n",
      "memory usage: 913.1+ MB\n"
     ]
    }
   ],
   "source": [
    "df.info()"
   ]
  },
  {
   "cell_type": "code",
   "execution_count": 8,
   "id": "32668298",
   "metadata": {},
   "outputs": [],
   "source": [
    "df[\"Date\"]=pd.to_datetime(df['Date'])\n",
    "\n",
    "df[\"Day\"]=df[\"Date\"].dt.dayofweek\n",
    "df[\"Month\"]=df[\"Date\"].dt.month\n",
    "df[\"Year\"]=df[\"Date\"].dt.year\n",
    "\n",
    "\n",
    "df['WeekDay']=df['Date'].dt.day_name()\n",
    "df['Month_Name']=df['Date'].dt.month_name()\n",
    "\n",
    "df.drop(\"Date\",axis=1,inplace=True)"
   ]
  },
  {
   "cell_type": "code",
   "execution_count": 9,
   "id": "6d68fc3e",
   "metadata": {},
   "outputs": [],
   "source": [
    "days={\"Monday\":\"1\",\n",
    "              \"Tuesday\":\"2\",\n",
    "              \"Wednesday\":\"3\",\n",
    "              \"Thursday\":\"4\",\n",
    "              \"Friday\":\"5\",\n",
    "              \"Saturday\":\"6\",\n",
    "              \"Sunday\":\"7\",\n",
    "             }\n",
    "df.WeekDay.replace(days,inplace=True) "
   ]
  },
  {
   "cell_type": "code",
   "execution_count": 10,
   "id": "99f4a2c7",
   "metadata": {},
   "outputs": [],
   "source": [
    "df['Month_Name']=df['Month_Name'].replace(['January'],'1')\n",
    "df['Month_Name']=df['Month_Name'].replace(['February'],'2')\n",
    "df['Month_Name']=df['Month_Name'].replace(['March'],'3')\n",
    "df['Month_Name']=df['Month_Name'].replace(['April'],'4')\n",
    "df['Month_Name']=df['Month_Name'].replace(['May'],'5')\n",
    "df['Month_Name']=df['Month_Name'].replace(['June'],'6')\n",
    "df['Month_Name']=df['Month_Name'].replace(['July'],'7')\n",
    "df['Month_Name']=df['Month_Name'].replace(['August'],'8')\n",
    "df['Month_Name']=df['Month_Name'].replace(['September'],'9')\n",
    "df['Month_Name']=df['Month_Name'].replace(['October'],'10')\n",
    "df['Month_Name']=df['Month_Name'].replace(['November'],'11')\n",
    "df['Month_Name']=df['Month_Name'].replace(['December'],'12')"
   ]
  },
  {
   "cell_type": "code",
   "execution_count": 11,
   "id": "8212e07f",
   "metadata": {},
   "outputs": [],
   "source": [
    "#aşağıda bu integer sutunlar sorun çıkardı yazı olduğu için, hepsini böyle değiştirdim.\n",
    "df['Origin Station']=df['Origin Station'].replace(['POWL'],'1')\n",
    "df['Origin Station']=df['Origin Station'].replace(['EMBR'],'2') \n",
    "df['Origin Station']=df['Origin Station'].replace(['CIVC'],'3')\n",
    "df['Origin Station']=df['Origin Station'].replace(['MONT'],'4') \n",
    "df['Origin Station']=df['Origin Station'].replace(['16TH'],'5')\n",
    "df['Origin Station']=df['Origin Station'].replace(['DBRK'],'6') \n",
    "df['Origin Station']=df['Origin Station'].replace(['12TH'],'7')\n",
    "df['Origin Station']=df['Origin Station'].replace(['24TH'],'8')\n",
    "df['Origin Station']=df['Origin Station'].replace(['19TH'],'9')\n",
    "df['Origin Station']=df['Origin Station'].replace(['SFIA'],'10') \n",
    "df['Origin Station']=df['Origin Station'].replace(['MCAR'],'11')\n",
    "df['Origin Station']=df['Origin Station'].replace(['FTVL'],'12') \n",
    "df['Origin Station']=df['Origin Station'].replace(['DALY'],'13')\n",
    "df['Origin Station']=df['Origin Station'].replace(['COLS'],'14') \n",
    "df['Origin Station']=df['Origin Station'].replace(['BALB'],'15')\n",
    "df['Origin Station']=df['Origin Station'].replace(['DELN'],'16')\n",
    "df['Origin Station']=df['Origin Station'].replace(['LAKE'],'17')\n",
    "df['Origin Station']=df['Origin Station'].replace(['FRMT'],'18') \n",
    "df['Origin Station']=df['Origin Station'].replace(['GLEN'],'19')\n",
    "df['Origin Station']=df['Origin Station'].replace(['SANL'],'20') \n",
    "df['Origin Station']=df['Origin Station'].replace(['PITT'],'21')\n",
    "df['Origin Station']=df['Origin Station'].replace(['BAYF'],'22') \n",
    "df['Origin Station']=df['Origin Station'].replace(['ASHB'],'23')\n",
    "df['Origin Station']=df['Origin Station'].replace(['CONC'],'24')\n",
    "df['Origin Station']=df['Origin Station'].replace(['HAYW'],'25')\n",
    "df['Origin Station']=df['Origin Station'].replace(['WCRK'],'26') \n",
    "df['Origin Station']=df['Origin Station'].replace(['WOAK'],'27')\n",
    "df['Origin Station']=df['Origin Station'].replace(['RICH'],'28') \n",
    "df['Origin Station']=df['Origin Station'].replace(['DUBL'],'29')\n",
    "df['Origin Station']=df['Origin Station'].replace(['ROCK'],'30') \n",
    "df['Origin Station']=df['Origin Station'].replace(['NBRK'],'31')\n",
    "df['Origin Station']=df['Origin Station'].replace(['PLZA'],'32')\n",
    "df['Origin Station']=df['Origin Station'].replace(['PHIL'],'33')\n",
    "df['Origin Station']=df['Origin Station'].replace(['MLBR'],'34') \n",
    "df['Origin Station']=df['Origin Station'].replace(['UCTY'],'35')\n",
    "df['Origin Station']=df['Origin Station'].replace(['SBRN'],'36') \n",
    "df['Origin Station']=df['Origin Station'].replace(['SHAY'],'37')\n",
    "df['Origin Station']=df['Origin Station'].replace(['OAKL'],'38') \n",
    "df['Origin Station']=df['Origin Station'].replace(['COLM'],'39')\n",
    "df['Origin Station']=df['Origin Station'].replace(['WDUB'],'40')\n",
    "df['Origin Station']=df['Origin Station'].replace(['SSAN'],'41')\n",
    "df['Origin Station']=df['Origin Station'].replace(['LAFY'],'42') \n",
    "df['Origin Station']=df['Origin Station'].replace(['CAST'],'43')\n",
    "df['Origin Station']=df['Origin Station'].replace(['ORIN'],'44') \n",
    "df['Origin Station']=df['Origin Station'].replace(['NCON'],'45')\n",
    "df['Origin Station']=df['Origin Station'].replace(['WARM'],'46') \n",
    "                    \n",
    "                               \n",
    "    "
   ]
  },
  {
   "cell_type": "code",
   "execution_count": 12,
   "id": "c461a1db",
   "metadata": {},
   "outputs": [],
   "source": [
    "df['Destination Station']=df['Destination Station'].replace(['POWL'],'1')\n",
    "df['Destination Station']=df['Destination Station'].replace(['EMBR'],'2') \n",
    "df['Destination Station']=df['Destination Station'].replace(['CIVC'],'3')\n",
    "df['Destination Station']=df['Destination Station'].replace(['MONT'],'4') \n",
    "df['Destination Station']=df['Destination Station'].replace(['16TH'],'5')\n",
    "df['Destination Station']=df['Destination Station'].replace(['DBRK'],'6') \n",
    "df['Destination Station']=df['Destination Station'].replace(['12TH'],'7')\n",
    "df['Destination Station']=df['Destination Station'].replace(['24TH'],'8')\n",
    "df['Destination Station']=df['Destination Station'].replace(['19TH'],'9')\n",
    "df['Destination Station']=df['Destination Station'].replace(['SFIA'],'10') \n",
    "df['Destination Station']=df['Destination Station'].replace(['SFIA'],'10') \n",
    "df['Destination Station']=df['Destination Station'].replace(['MCAR'],'11')\n",
    "df['Destination Station']=df['Destination Station'].replace(['FTVL'],'12') \n",
    "df['Destination Station']=df['Destination Station'].replace(['DALY'],'13')\n",
    "df['Destination Station']=df['Destination Station'].replace(['COLS'],'14') \n",
    "df['Destination Station']=df['Destination Station'].replace(['BALB'],'15')\n",
    "df['Destination Station']=df['Destination Station'].replace(['DELN'],'16')\n",
    "df['Destination Station']=df['Destination Station'].replace(['LAKE'],'17')\n",
    "df['Destination Station']=df['Destination Station'].replace(['FRMT'],'18') \n",
    "df['Destination Station']=df['Destination Station'].replace(['GLEN'],'19')\n",
    "df['Destination Station']=df['Destination Station'].replace(['SANL'],'20') \n",
    "df['Destination Station']=df['Destination Station'].replace(['PITT'],'21')\n",
    "df['Destination Station']=df['Destination Station'].replace(['BAYF'],'22') \n",
    "df['Destination Station']=df['Destination Station'].replace(['ASHB'],'23')\n",
    "df['Destination Station']=df['Destination Station'].replace(['CONC'],'24')\n",
    "df['Destination Station']=df['Destination Station'].replace(['HAYW'],'25')\n",
    "df['Destination Station']=df['Destination Station'].replace(['WCRK'],'26') \n",
    "df['Destination Station']=df['Destination Station'].replace(['WOAK'],'27')\n",
    "df['Destination Station']=df['Destination Station'].replace(['RICH'],'28') \n",
    "df['Destination Station']=df['Destination Station'].replace(['DUBL'],'29')\n",
    "df['Destination Station']=df['Destination Station'].replace(['ROCK'],'30') \n",
    "df['Destination Station']=df['Destination Station'].replace(['NBRK'],'31')\n",
    "df['Destination Station']=df['Destination Station'].replace(['PLZA'],'32')\n",
    "df['Destination Station']=df['Destination Station'].replace(['PHIL'],'33')\n",
    "df['Destination Station']=df['Destination Station'].replace(['MLBR'],'34') \n",
    "df['Destination Station']=df['Destination Station'].replace(['UCTY'],'35')\n",
    "df['Destination Station']=df['Destination Station'].replace(['SBRN'],'36') \n",
    "df['Destination Station']=df['Destination Station'].replace(['SHAY'],'37')\n",
    "df['Destination Station']=df['Destination Station'].replace(['OAKL'],'38') \n",
    "df['Destination Station']=df['Destination Station'].replace(['COLM'],'39')\n",
    "df['Destination Station']=df['Destination Station'].replace(['WDUB'],'40')\n",
    "df['Destination Station']=df['Destination Station'].replace(['SSAN'],'41')\n",
    "df['Destination Station']=df['Destination Station'].replace(['LAFY'],'42') \n",
    "df['Destination Station']=df['Destination Station'].replace(['CAST'],'43')\n",
    "df['Destination Station']=df['Destination Station'].replace(['ORIN'],'44') \n",
    "df['Destination Station']=df['Destination Station'].replace(['NCON'],'45')\n",
    "df['Destination Station']=df['Destination Station'].replace(['WARM'],'46') "
   ]
  },
  {
   "cell_type": "code",
   "execution_count": 13,
   "id": "3c146931",
   "metadata": {},
   "outputs": [
    {
     "data": {
      "text/html": [
       "<div>\n",
       "<style scoped>\n",
       "    .dataframe tbody tr th:only-of-type {\n",
       "        vertical-align: middle;\n",
       "    }\n",
       "\n",
       "    .dataframe tbody tr th {\n",
       "        vertical-align: top;\n",
       "    }\n",
       "\n",
       "    .dataframe thead th {\n",
       "        text-align: right;\n",
       "    }\n",
       "</style>\n",
       "<table border=\"1\" class=\"dataframe\">\n",
       "  <thead>\n",
       "    <tr style=\"text-align: right;\">\n",
       "      <th></th>\n",
       "      <th>Hour</th>\n",
       "      <th>Origin Station</th>\n",
       "      <th>Destination Station</th>\n",
       "      <th>Trip Count</th>\n",
       "      <th>Day</th>\n",
       "      <th>Month</th>\n",
       "      <th>Year</th>\n",
       "      <th>WeekDay</th>\n",
       "      <th>Month_Name</th>\n",
       "    </tr>\n",
       "  </thead>\n",
       "  <tbody>\n",
       "    <tr>\n",
       "      <th>0</th>\n",
       "      <td>0</td>\n",
       "      <td>7</td>\n",
       "      <td>7</td>\n",
       "      <td>1</td>\n",
       "      <td>4</td>\n",
       "      <td>1</td>\n",
       "      <td>2016</td>\n",
       "      <td>5</td>\n",
       "      <td>1</td>\n",
       "    </tr>\n",
       "    <tr>\n",
       "      <th>1</th>\n",
       "      <td>0</td>\n",
       "      <td>7</td>\n",
       "      <td>5</td>\n",
       "      <td>1</td>\n",
       "      <td>4</td>\n",
       "      <td>1</td>\n",
       "      <td>2016</td>\n",
       "      <td>5</td>\n",
       "      <td>1</td>\n",
       "    </tr>\n",
       "    <tr>\n",
       "      <th>2</th>\n",
       "      <td>0</td>\n",
       "      <td>7</td>\n",
       "      <td>8</td>\n",
       "      <td>4</td>\n",
       "      <td>4</td>\n",
       "      <td>1</td>\n",
       "      <td>2016</td>\n",
       "      <td>5</td>\n",
       "      <td>1</td>\n",
       "    </tr>\n",
       "    <tr>\n",
       "      <th>3</th>\n",
       "      <td>0</td>\n",
       "      <td>7</td>\n",
       "      <td>23</td>\n",
       "      <td>4</td>\n",
       "      <td>4</td>\n",
       "      <td>1</td>\n",
       "      <td>2016</td>\n",
       "      <td>5</td>\n",
       "      <td>1</td>\n",
       "    </tr>\n",
       "    <tr>\n",
       "      <th>4</th>\n",
       "      <td>0</td>\n",
       "      <td>7</td>\n",
       "      <td>15</td>\n",
       "      <td>2</td>\n",
       "      <td>4</td>\n",
       "      <td>1</td>\n",
       "      <td>2016</td>\n",
       "      <td>5</td>\n",
       "      <td>1</td>\n",
       "    </tr>\n",
       "  </tbody>\n",
       "</table>\n",
       "</div>"
      ],
      "text/plain": [
       "   Hour Origin Station Destination Station  Trip Count  Day  Month  Year  \\\n",
       "0     0              7                   7           1    4      1  2016   \n",
       "1     0              7                   5           1    4      1  2016   \n",
       "2     0              7                   8           4    4      1  2016   \n",
       "3     0              7                  23           4    4      1  2016   \n",
       "4     0              7                  15           2    4      1  2016   \n",
       "\n",
       "  WeekDay Month_Name  \n",
       "0       5          1  \n",
       "1       5          1  \n",
       "2       5          1  \n",
       "3       5          1  \n",
       "4       5          1  "
      ]
     },
     "execution_count": 13,
     "metadata": {},
     "output_type": "execute_result"
    }
   ],
   "source": [
    "df.head()"
   ]
  },
  {
   "cell_type": "code",
   "execution_count": 14,
   "id": "7ad4039a",
   "metadata": {},
   "outputs": [
    {
     "name": "stdout",
     "output_type": "stream",
     "text": [
      "<class 'pandas.core.frame.DataFrame'>\n",
      "Int64Index: 19947757 entries, 0 to 9974094\n",
      "Data columns (total 9 columns):\n",
      " #   Column               Dtype \n",
      "---  ------               ----- \n",
      " 0   Hour                 int64 \n",
      " 1   Origin Station       object\n",
      " 2   Destination Station  object\n",
      " 3   Trip Count           int64 \n",
      " 4   Day                  int64 \n",
      " 5   Month                int64 \n",
      " 6   Year                 int64 \n",
      " 7   WeekDay              object\n",
      " 8   Month_Name           object\n",
      "dtypes: int64(5), object(4)\n",
      "memory usage: 1.5+ GB\n"
     ]
    }
   ],
   "source": [
    "df.info()"
   ]
  },
  {
   "cell_type": "code",
   "execution_count": 15,
   "id": "f1eaec83",
   "metadata": {},
   "outputs": [],
   "source": [
    "df3=pd.read_csv('station_names.csv')\n",
    "#istasyon isimleri dosyası"
   ]
  },
  {
   "cell_type": "code",
   "execution_count": 16,
   "id": "69fcccb3",
   "metadata": {},
   "outputs": [],
   "source": [
    "df3.drop([\"Unnamed: 0\"],axis=1,inplace=True)"
   ]
  },
  {
   "cell_type": "code",
   "execution_count": 17,
   "id": "cbeb80be",
   "metadata": {},
   "outputs": [
    {
     "data": {
      "text/html": [
       "<div>\n",
       "<style scoped>\n",
       "    .dataframe tbody tr th:only-of-type {\n",
       "        vertical-align: middle;\n",
       "    }\n",
       "\n",
       "    .dataframe tbody tr th {\n",
       "        vertical-align: top;\n",
       "    }\n",
       "\n",
       "    .dataframe thead th {\n",
       "        text-align: right;\n",
       "    }\n",
       "</style>\n",
       "<table border=\"1\" class=\"dataframe\">\n",
       "  <thead>\n",
       "    <tr style=\"text-align: right;\">\n",
       "      <th></th>\n",
       "      <th>station_name_sort</th>\n",
       "      <th>Station Name</th>\n",
       "    </tr>\n",
       "  </thead>\n",
       "  <tbody>\n",
       "    <tr>\n",
       "      <th>0</th>\n",
       "      <td>RM</td>\n",
       "      <td>Richmond</td>\n",
       "    </tr>\n",
       "    <tr>\n",
       "      <th>1</th>\n",
       "      <td>EN</td>\n",
       "      <td>El Cerrito Del Norte</td>\n",
       "    </tr>\n",
       "    <tr>\n",
       "      <th>2</th>\n",
       "      <td>EP</td>\n",
       "      <td>El Cerrito Plaza</td>\n",
       "    </tr>\n",
       "    <tr>\n",
       "      <th>3</th>\n",
       "      <td>NB</td>\n",
       "      <td>North Berkeley</td>\n",
       "    </tr>\n",
       "    <tr>\n",
       "      <th>4</th>\n",
       "      <td>BK</td>\n",
       "      <td>Berkeley</td>\n",
       "    </tr>\n",
       "    <tr>\n",
       "      <th>5</th>\n",
       "      <td>AS</td>\n",
       "      <td>Ashby</td>\n",
       "    </tr>\n",
       "    <tr>\n",
       "      <th>6</th>\n",
       "      <td>MA</td>\n",
       "      <td>MacArthur</td>\n",
       "    </tr>\n",
       "    <tr>\n",
       "      <th>7</th>\n",
       "      <td>19</td>\n",
       "      <td>19th Street Oakland</td>\n",
       "    </tr>\n",
       "    <tr>\n",
       "      <th>8</th>\n",
       "      <td>12</td>\n",
       "      <td>12th Street / Oakland City Center</td>\n",
       "    </tr>\n",
       "    <tr>\n",
       "      <th>9</th>\n",
       "      <td>LM</td>\n",
       "      <td>Lake Merritt</td>\n",
       "    </tr>\n",
       "    <tr>\n",
       "      <th>10</th>\n",
       "      <td>FV</td>\n",
       "      <td>Fruitvale</td>\n",
       "    </tr>\n",
       "    <tr>\n",
       "      <th>11</th>\n",
       "      <td>CL</td>\n",
       "      <td>Coliseum</td>\n",
       "    </tr>\n",
       "    <tr>\n",
       "      <th>12</th>\n",
       "      <td>SL</td>\n",
       "      <td>San Leandro</td>\n",
       "    </tr>\n",
       "    <tr>\n",
       "      <th>13</th>\n",
       "      <td>BF</td>\n",
       "      <td>Bayfair</td>\n",
       "    </tr>\n",
       "    <tr>\n",
       "      <th>14</th>\n",
       "      <td>HY</td>\n",
       "      <td>Hayward</td>\n",
       "    </tr>\n",
       "    <tr>\n",
       "      <th>15</th>\n",
       "      <td>SH</td>\n",
       "      <td>South Hayward</td>\n",
       "    </tr>\n",
       "    <tr>\n",
       "      <th>16</th>\n",
       "      <td>UC</td>\n",
       "      <td>Union City</td>\n",
       "    </tr>\n",
       "    <tr>\n",
       "      <th>17</th>\n",
       "      <td>FM</td>\n",
       "      <td>Fremont</td>\n",
       "    </tr>\n",
       "    <tr>\n",
       "      <th>18</th>\n",
       "      <td>CN</td>\n",
       "      <td>Concord</td>\n",
       "    </tr>\n",
       "    <tr>\n",
       "      <th>19</th>\n",
       "      <td>PH</td>\n",
       "      <td>Pleasant Hill</td>\n",
       "    </tr>\n",
       "    <tr>\n",
       "      <th>20</th>\n",
       "      <td>WC</td>\n",
       "      <td>Walnut Creek</td>\n",
       "    </tr>\n",
       "    <tr>\n",
       "      <th>21</th>\n",
       "      <td>LF</td>\n",
       "      <td>Lafayette</td>\n",
       "    </tr>\n",
       "    <tr>\n",
       "      <th>22</th>\n",
       "      <td>OR</td>\n",
       "      <td>Orinda</td>\n",
       "    </tr>\n",
       "    <tr>\n",
       "      <th>23</th>\n",
       "      <td>RR</td>\n",
       "      <td>Rockridge</td>\n",
       "    </tr>\n",
       "    <tr>\n",
       "      <th>24</th>\n",
       "      <td>OW</td>\n",
       "      <td>West Oakland</td>\n",
       "    </tr>\n",
       "    <tr>\n",
       "      <th>25</th>\n",
       "      <td>EM</td>\n",
       "      <td>Embarcadero</td>\n",
       "    </tr>\n",
       "    <tr>\n",
       "      <th>26</th>\n",
       "      <td>MT</td>\n",
       "      <td>Montgomery Street</td>\n",
       "    </tr>\n",
       "    <tr>\n",
       "      <th>27</th>\n",
       "      <td>PL</td>\n",
       "      <td>Powell Street</td>\n",
       "    </tr>\n",
       "    <tr>\n",
       "      <th>28</th>\n",
       "      <td>CC</td>\n",
       "      <td>Civic Center</td>\n",
       "    </tr>\n",
       "    <tr>\n",
       "      <th>29</th>\n",
       "      <td>16</td>\n",
       "      <td>16th Street Mission</td>\n",
       "    </tr>\n",
       "    <tr>\n",
       "      <th>30</th>\n",
       "      <td>24</td>\n",
       "      <td>24th Street Mission</td>\n",
       "    </tr>\n",
       "    <tr>\n",
       "      <th>31</th>\n",
       "      <td>GP</td>\n",
       "      <td>Glen Park</td>\n",
       "    </tr>\n",
       "    <tr>\n",
       "      <th>32</th>\n",
       "      <td>BP</td>\n",
       "      <td>Balboa Park</td>\n",
       "    </tr>\n",
       "    <tr>\n",
       "      <th>33</th>\n",
       "      <td>DC</td>\n",
       "      <td>Daly City</td>\n",
       "    </tr>\n",
       "    <tr>\n",
       "      <th>34</th>\n",
       "      <td>CM</td>\n",
       "      <td>Colma</td>\n",
       "    </tr>\n",
       "    <tr>\n",
       "      <th>35</th>\n",
       "      <td>CV</td>\n",
       "      <td>Castro Valley</td>\n",
       "    </tr>\n",
       "    <tr>\n",
       "      <th>36</th>\n",
       "      <td>ED</td>\n",
       "      <td>Dublin/Pleasanton</td>\n",
       "    </tr>\n",
       "    <tr>\n",
       "      <th>37</th>\n",
       "      <td>NC</td>\n",
       "      <td>North Concord</td>\n",
       "    </tr>\n",
       "    <tr>\n",
       "      <th>38</th>\n",
       "      <td>WP</td>\n",
       "      <td>Pittsburg/Bay Point</td>\n",
       "    </tr>\n",
       "    <tr>\n",
       "      <th>39</th>\n",
       "      <td>SS</td>\n",
       "      <td>South San Francisco</td>\n",
       "    </tr>\n",
       "    <tr>\n",
       "      <th>40</th>\n",
       "      <td>SB</td>\n",
       "      <td>San Bruno</td>\n",
       "    </tr>\n",
       "    <tr>\n",
       "      <th>41</th>\n",
       "      <td>SO</td>\n",
       "      <td>San Francisco International Airport</td>\n",
       "    </tr>\n",
       "    <tr>\n",
       "      <th>42</th>\n",
       "      <td>MB</td>\n",
       "      <td>Millbrae</td>\n",
       "    </tr>\n",
       "    <tr>\n",
       "      <th>43</th>\n",
       "      <td>WD</td>\n",
       "      <td>West Dublin/Pleasanton</td>\n",
       "    </tr>\n",
       "    <tr>\n",
       "      <th>44</th>\n",
       "      <td>OA</td>\n",
       "      <td>Oakland International Airport</td>\n",
       "    </tr>\n",
       "    <tr>\n",
       "      <th>45</th>\n",
       "      <td>WS</td>\n",
       "      <td>Warm Springs</td>\n",
       "    </tr>\n",
       "  </tbody>\n",
       "</table>\n",
       "</div>"
      ],
      "text/plain": [
       "   station_name_sort                         Station Name\n",
       "0                 RM                             Richmond\n",
       "1                 EN                 El Cerrito Del Norte\n",
       "2                 EP                     El Cerrito Plaza\n",
       "3                 NB                       North Berkeley\n",
       "4                 BK                             Berkeley\n",
       "5                 AS                                Ashby\n",
       "6                 MA                            MacArthur\n",
       "7                 19                  19th Street Oakland\n",
       "8                 12    12th Street / Oakland City Center\n",
       "9                 LM                         Lake Merritt\n",
       "10                FV                            Fruitvale\n",
       "11                CL                             Coliseum\n",
       "12                SL                          San Leandro\n",
       "13                BF                              Bayfair\n",
       "14                HY                              Hayward\n",
       "15                SH                        South Hayward\n",
       "16                UC                           Union City\n",
       "17                FM                              Fremont\n",
       "18                CN                              Concord\n",
       "19                PH                        Pleasant Hill\n",
       "20                WC                         Walnut Creek\n",
       "21                LF                            Lafayette\n",
       "22                OR                               Orinda\n",
       "23                RR                            Rockridge\n",
       "24                OW                         West Oakland\n",
       "25                EM                          Embarcadero\n",
       "26                MT                    Montgomery Street\n",
       "27                PL                        Powell Street\n",
       "28                CC                         Civic Center\n",
       "29                16                  16th Street Mission\n",
       "30                24                  24th Street Mission\n",
       "31                GP                            Glen Park\n",
       "32                BP                          Balboa Park\n",
       "33                DC                            Daly City\n",
       "34                CM                                Colma\n",
       "35                CV                        Castro Valley\n",
       "36                ED                    Dublin/Pleasanton\n",
       "37                NC                        North Concord\n",
       "38                WP                  Pittsburg/Bay Point\n",
       "39                SS                  South San Francisco\n",
       "40                SB                            San Bruno\n",
       "41                SO  San Francisco International Airport\n",
       "42                MB                             Millbrae\n",
       "43                WD               West Dublin/Pleasanton\n",
       "44                OA        Oakland International Airport\n",
       "45                WS                         Warm Springs"
      ]
     },
     "execution_count": 17,
     "metadata": {},
     "output_type": "execute_result"
    }
   ],
   "source": [
    "df3.head(46)"
   ]
  },
  {
   "cell_type": "markdown",
   "id": "42791f5c",
   "metadata": {},
   "source": [
    "1. Which BART station is the busiest?"
   ]
  },
  {
   "cell_type": "code",
   "execution_count": 18,
   "id": "ed18f63c",
   "metadata": {},
   "outputs": [],
   "source": [
    "import numpy as np\n",
    "import pandas as pd\n",
    "import matplotlib.pyplot as plt\n",
    "import seaborn as sns"
   ]
  },
  {
   "cell_type": "code",
   "execution_count": 19,
   "id": "9dfcbc9f",
   "metadata": {},
   "outputs": [
    {
     "data": {
      "text/plain": [
       "Text(0.5, 1.0, 'istasyon dağılımı')"
      ]
     },
     "execution_count": 19,
     "metadata": {},
     "output_type": "execute_result"
    },
    {
     "data": {
      "image/png": "[encoded data removed]",
      "text/plain": [
       "<Figure size 1700x700 with 1 Axes>"
      ]
     },
     "metadata": {},
     "output_type": "display_data"
    }
   ],
   "source": [
    "plt.figure(figsize=(17,7))\n",
    "sns.countplot(x=df['Origin Station'])\n",
    "plt.xticks(rotation=90);\n",
    "plt.title('istasyon dağılımı')\n",
    "#En yoğun istasyon Powell Street."
   ]
  },
  {
   "cell_type": "raw",
   "id": "9bea5a02",
   "metadata": {},
   "source": [
    "2. What is the least popular BART route?"
   ]
  },
  {
   "cell_type": "code",
   "execution_count": 20,
   "id": "e8995e25",
   "metadata": {},
   "outputs": [
    {
     "data": {
      "image/png": "[encoded data removed]",
      "text/plain": [
       "<Figure size 2000x2000 with 1 Axes>"
      ]
     },
     "metadata": {},
     "output_type": "display_data"
    }
   ],
   "source": [
    "plt.figure(figsize=(20,20))\n",
    "plt.xticks(rotation=90);\n",
    "sns.barplot(x=df['Origin Station'],y=df['Trip Count']);\n",
    "#En az yolcuya sahip istasyon 38. istasyon yani \"Oakland International Airport\"\n",
    "#trip counta göre istasonlara baktım"
   ]
  },
  {
   "cell_type": "code",
   "execution_count": 21,
   "id": "d47644f6",
   "metadata": {},
   "outputs": [
    {
     "data": {
      "text/plain": [
       "Text(0.5, 1.0, 'istasyon')"
      ]
     },
     "execution_count": 21,
     "metadata": {},
     "output_type": "execute_result"
    },
    {
     "data": {
      "image/png": "[encoded data removed]",
      "text/plain": [
       "<Figure size 1700x700 with 1 Axes>"
      ]
     },
     "metadata": {},
     "output_type": "display_data"
    }
   ],
   "source": [
    "plt.figure(figsize=(17,7))\n",
    "sns.countplot(x=df['Hour'])\n",
    "plt.xticks(rotation=90);\n",
    "plt.title('istasyon')\n",
    "#en yoğun saat akşam 5-6"
   ]
  },
  {
   "cell_type": "code",
   "execution_count": 46,
   "id": "d7356763",
   "metadata": {},
   "outputs": [
    {
     "data": {
      "image/png": "[encoded data removed]",
      "text/plain": [
       "<Figure size 2000x2000 with 1 Axes>"
      ]
     },
     "metadata": {},
     "output_type": "display_data"
    }
   ],
   "source": [
    "plt.figure(figsize=(20,20))\n",
    "plt.xticks(rotation=90);\n",
    "sns.barplot(x=df['Hour'],y=df['Trip Count']);\n",
    "#trip counta göre en yoğun saat sabah 9"
   ]
  },
  {
   "cell_type": "code",
   "execution_count": 47,
   "id": "30768f17",
   "metadata": {},
   "outputs": [
    {
     "data": {
      "image/png": "[encoded data removed]",
      "text/plain": [
       "<Figure size 2000x2000 with 1 Axes>"
      ]
     },
     "metadata": {},
     "output_type": "display_data"
    }
   ],
   "source": [
    "plt.figure(figsize=(20,20))\n",
    "plt.xticks(rotation=90);\n",
    "sns.barplot(x=df['Day'],y=df['Trip Count']);\n",
    "#haftanın en yoğun günü çarşamba günü, en seyrek pazar"
   ]
  },
  {
   "cell_type": "raw",
   "id": "da833fde",
   "metadata": {},
   "source": [
    "3. When is the best time to go from Berkeley to SF if you want to find a seat?"
   ]
  },
  {
   "cell_type": "raw",
   "id": "6c199de1",
   "metadata": {},
   "source": [
    " BART'ı gece geç saatte 22:00 - 06:00 kaç kişi kullanıyor?"
   ]
  },
  {
   "cell_type": "code",
   "execution_count": 48,
   "id": "41dc7d38",
   "metadata": {},
   "outputs": [
    {
     "name": "stdout",
     "output_type": "stream",
     "text": [
      "16055441\n"
     ]
    }
   ],
   "source": [
    "#22:00 - 06:00 saatlerini filtreledik\n",
    "filtered_df = df[(df['Hour'] >= 22) | (df['Hour'] < 6)]\n",
    "toplam_trip_count = filtered_df['Trip Count'].sum()\n",
    "print(toplam_trip_count)"
   ]
  },
  {
   "cell_type": "code",
   "execution_count": 49,
   "id": "88815fe8",
   "metadata": {},
   "outputs": [
    {
     "data": {
      "text/html": [
       "<div>\n",
       "<style scoped>\n",
       "    .dataframe tbody tr th:only-of-type {\n",
       "        vertical-align: middle;\n",
       "    }\n",
       "\n",
       "    .dataframe tbody tr th {\n",
       "        vertical-align: top;\n",
       "    }\n",
       "\n",
       "    .dataframe thead th {\n",
       "        text-align: right;\n",
       "    }\n",
       "</style>\n",
       "<table border=\"1\" class=\"dataframe\">\n",
       "  <thead>\n",
       "    <tr style=\"text-align: right;\">\n",
       "      <th></th>\n",
       "      <th>Hour</th>\n",
       "      <th>Origin Station</th>\n",
       "      <th>Destination Station</th>\n",
       "      <th>Trip Count</th>\n",
       "      <th>Day</th>\n",
       "      <th>Month</th>\n",
       "      <th>Year</th>\n",
       "      <th>WeekDay</th>\n",
       "      <th>Month_Name</th>\n",
       "    </tr>\n",
       "  </thead>\n",
       "  <tbody>\n",
       "    <tr>\n",
       "      <th>0</th>\n",
       "      <td>0</td>\n",
       "      <td>7</td>\n",
       "      <td>7</td>\n",
       "      <td>1</td>\n",
       "      <td>4</td>\n",
       "      <td>1</td>\n",
       "      <td>2016</td>\n",
       "      <td>5</td>\n",
       "      <td>1</td>\n",
       "    </tr>\n",
       "    <tr>\n",
       "      <th>1</th>\n",
       "      <td>0</td>\n",
       "      <td>7</td>\n",
       "      <td>5</td>\n",
       "      <td>1</td>\n",
       "      <td>4</td>\n",
       "      <td>1</td>\n",
       "      <td>2016</td>\n",
       "      <td>5</td>\n",
       "      <td>1</td>\n",
       "    </tr>\n",
       "    <tr>\n",
       "      <th>2</th>\n",
       "      <td>0</td>\n",
       "      <td>7</td>\n",
       "      <td>8</td>\n",
       "      <td>4</td>\n",
       "      <td>4</td>\n",
       "      <td>1</td>\n",
       "      <td>2016</td>\n",
       "      <td>5</td>\n",
       "      <td>1</td>\n",
       "    </tr>\n",
       "    <tr>\n",
       "      <th>3</th>\n",
       "      <td>0</td>\n",
       "      <td>7</td>\n",
       "      <td>23</td>\n",
       "      <td>4</td>\n",
       "      <td>4</td>\n",
       "      <td>1</td>\n",
       "      <td>2016</td>\n",
       "      <td>5</td>\n",
       "      <td>1</td>\n",
       "    </tr>\n",
       "    <tr>\n",
       "      <th>4</th>\n",
       "      <td>0</td>\n",
       "      <td>7</td>\n",
       "      <td>15</td>\n",
       "      <td>2</td>\n",
       "      <td>4</td>\n",
       "      <td>1</td>\n",
       "      <td>2016</td>\n",
       "      <td>5</td>\n",
       "      <td>1</td>\n",
       "    </tr>\n",
       "  </tbody>\n",
       "</table>\n",
       "</div>"
      ],
      "text/plain": [
       "   Hour Origin Station Destination Station  Trip Count  Day  Month  Year  \\\n",
       "0     0              7                   7           1    4      1  2016   \n",
       "1     0              7                   5           1    4      1  2016   \n",
       "2     0              7                   8           4    4      1  2016   \n",
       "3     0              7                  23           4    4      1  2016   \n",
       "4     0              7                  15           2    4      1  2016   \n",
       "\n",
       "  WeekDay Month_Name  \n",
       "0       5          1  \n",
       "1       5          1  \n",
       "2       5          1  \n",
       "3       5          1  \n",
       "4       5          1  "
      ]
     },
     "execution_count": 49,
     "metadata": {},
     "output_type": "execute_result"
    }
   ],
   "source": [
    "df.head()"
   ]
  },
  {
   "cell_type": "code",
   "execution_count": 50,
   "id": "8ab5825f",
   "metadata": {},
   "outputs": [],
   "source": [
    "# Sadece Berkeley ve San Fransisco istasyonları arasındaki seyahatleri filtrele\n",
    "filtered_df = df[(df['Origin Station'] == '6') & (df['Destination Station'] == '10')]\n",
    "\n",
    "# Tarih ve istasyonlara göre grupla ve yolcu sayısını hesapla\n",
    "grouped_df = filtered_df.groupby(['Day','Month','Year', 'Origin Station', 'Destination Station']).sum().reset_index()\n"
   ]
  },
  {
   "cell_type": "code",
   "execution_count": 51,
   "id": "cf8e32ec",
   "metadata": {
    "collapsed": true,
    "jupyter": {
     "outputs_hidden": true
    }
   },
   "outputs": [
    {
     "name": "stdout",
     "output_type": "stream",
     "text": [
      "     Day  Month  Year Origin Station Destination Station  Hour  Trip Count\n",
      "0      0      1  2016              6                  10  1054         494\n",
      "1      0      1  2017              6                  10  1121         397\n",
      "2      0      2  2016              6                  10  1274         644\n",
      "3      0      2  2017              6                  10   979         434\n",
      "4      0      3  2016              6                  10  1059         962\n",
      "5      0      3  2017              6                  10  1041         635\n",
      "6      0      4  2016              6                  10  1012         515\n",
      "7      0      4  2017              6                  10   951         570\n",
      "8      0      5  2016              6                  10  1302         969\n",
      "9      0      5  2017              6                  10  1282         755\n",
      "10     0      6  2016              6                  10  1020         701\n",
      "11     0      6  2017              6                  10  1036         598\n",
      "12     0      7  2016              6                  10  1018         531\n",
      "13     0      7  2017              6                  10  1288         643\n",
      "14     0      8  2016              6                  10  1285         994\n",
      "15     0      8  2017              6                  10  1018         655\n",
      "16     0      9  2016              6                  10   971         473\n",
      "17     0      9  2017              6                  10   954         390\n",
      "18     0     10  2016              6                  10  1242         642\n",
      "19     0     10  2017              6                  10  1313         612\n",
      "20     0     11  2016              6                  10  1019         675\n",
      "21     0     11  2017              6                  10  1042         707\n",
      "22     0     12  2016              6                  10  1020         952\n",
      "23     0     12  2017              6                  10   978         730\n",
      "24     1      1  2016              6                  10   996         443\n",
      "25     1      1  2017              6                  10  1158         470\n",
      "26     1      2  2016              6                  10   978         534\n",
      "27     1      2  2017              6                  10  1004         446\n",
      "28     1      3  2016              6                  10  1281         888\n",
      "29     1      3  2017              6                  10   998         562\n",
      "30     1      4  2016              6                  10   998         483\n",
      "31     1      4  2017              6                  10  1064         488\n",
      "32     1      5  2016              6                  10  1298         948\n",
      "33     1      5  2017              6                  10  1273         797\n",
      "34     1      6  2016              6                  10  1018         717\n",
      "35     1      6  2017              6                  10  1064         492\n",
      "36     1      7  2016              6                  10   990         528\n",
      "37     1      7  2017              6                  10   948         439\n",
      "38     1      8  2016              6                  10  1236         806\n",
      "39     1      8  2017              6                  10  1263         787\n",
      "40     1      9  2016              6                  10  1027         491\n",
      "41     1      9  2017              6                  10  1037         459\n",
      "42     1     10  2016              6                  10   991         444\n",
      "43     1     10  2017              6                  10  1266         562\n",
      "44     1     11  2016              6                  10  1321        1499\n",
      "45     1     11  2017              6                  10  1033        1308\n",
      "46     1     12  2016              6                  10   976         806\n",
      "47     1     12  2017              6                  10  1065         720\n",
      "48     2      1  2016              6                  10  1019         452\n",
      "49     2      1  2017              6                  10   996         431\n",
      "50     2      2  2016              6                  10  1029         528\n",
      "51     2      2  2017              6                  10  1006         428\n",
      "52     2      3  2016              6                  10  1331         934\n",
      "53     2      3  2017              6                  10  1302         762\n",
      "54     2      4  2016              6                  10  1042         606\n",
      "55     2      4  2017              6                  10  1015         565\n",
      "56     2      5  2016              6                  10  1046         848\n",
      "57     2      5  2017              6                  10  1308         902\n",
      "58     2      6  2016              6                  10  1307         839\n",
      "59     2      6  2017              6                  10  1041         630\n",
      "60     2      7  2016              6                  10  1034         562\n",
      "61     2      7  2017              6                  10  1065         573\n",
      "62     2      8  2016              6                  10  1303         824\n",
      "63     2      8  2017              6                  10  1292         744\n",
      "64     2      9  2016              6                  10  1031         540\n",
      "65     2      9  2017              6                  10  1007         460\n",
      "66     2     10  2016              6                  10  1041         578\n",
      "67     2     10  2017              6                  10   990         560\n",
      "68     2     11  2016              6                  10  1281        1290\n",
      "69     2     11  2017              6                  10  1261        1219\n",
      "70     2     12  2016              6                  10  1042         833\n",
      "71     2     12  2017              6                  10  1060         724\n",
      "72     3      1  2016              6                  10  1016         565\n",
      "73     3      1  2017              6                  10   973         517\n",
      "74     3      2  2016              6                  10  1045         824\n",
      "75     3      2  2017              6                  10  1065         677\n",
      "76     3      3  2016              6                  10  1308        1370\n",
      "77     3      3  2017              6                  10  1332        1206\n",
      "78     3      4  2016              6                  10  1042         819\n",
      "79     3      4  2017              6                  10  1065         677\n",
      "80     3      5  2016              6                  10  1065         948\n",
      "81     3      5  2017              6                  10  1066         795\n",
      "82     3      6  2016              6                  10  1309         984\n",
      "83     3      6  2017              6                  10  1297         811\n",
      "84     3      7  2016              6                  10  1038         801\n",
      "85     3      7  2017              6                  10  1064         659\n",
      "86     3      8  2016              6                  10  1034         921\n",
      "87     3      8  2017              6                  10  1327         954\n",
      "88     3      9  2016              6                  10  1331         899\n",
      "89     3      9  2017              6                  10  1042         684\n",
      "90     3     10  2016              6                  10  1064         841\n",
      "91     3     10  2017              6                  10  1065         757\n",
      "92     3     11  2016              6                  10  1019         897\n",
      "93     3     11  2017              6                  10  1235         904\n",
      "94     3     12  2016              6                  10  1256        1007\n",
      "95     3     12  2017              6                  10  1043         894\n",
      "96     4      1  2016              6                  10  1281         771\n",
      "97     4      1  2017              6                  10   993         535\n",
      "98     4      2  2016              6                  10  1059         857\n",
      "99     4      2  2017              6                  10  1066         742\n",
      "100    4      3  2016              6                  10  1062        1646\n",
      "101    4      3  2017              6                  10  1317        1638\n",
      "102    4      4  2016              6                  10  1327         930\n",
      "103    4      4  2017              6                  10  1037         734\n",
      "104    4      5  2016              6                  10  1042        1213\n",
      "105    4      5  2017              6                  10  1038         954\n",
      "106    4      6  2016              6                  10  1064        1007\n",
      "107    4      6  2017              6                  10  1275        1032\n",
      "108    4      7  2016              6                  10  1304        1282\n",
      "109    4      7  2017              6                  10  1061         847\n",
      "110    4      8  2016              6                  10  1056        1171\n",
      "111    4      8  2017              6                  10  1043        1041\n",
      "112    4      9  2016              6                  10  1331        1237\n",
      "113    4      9  2017              6                  10  1310        1016\n",
      "114    4     10  2016              6                  10  1065         938\n",
      "115    4     10  2017              6                  10  1016         919\n",
      "116    4     11  2016              6                  10   997         848\n",
      "117    4     11  2017              6                  10  1042         852\n",
      "118    4     12  2016              6                  10  1280        1285\n",
      "119    4     12  2017              6                  10  1298        1268\n",
      "120    5      1  2016              6                  10  1173         481\n",
      "121    5      1  2017              6                  10   919         395\n",
      "122    5      2  2016              6                  10   974         501\n",
      "123    5      2  2017              6                  10   952         437\n",
      "124    5      3  2016              6                  10   988        1083\n",
      "125    5      3  2017              6                  10  1006         981\n",
      "126    5      4  2016              6                  10  1210         611\n",
      "127    5      4  2017              6                  10  1159         521\n",
      "128    5      5  2016              6                  10  1022         995\n",
      "129    5      5  2017              6                  10   939         812\n",
      "130    5      6  2016              6                  10   998         542\n",
      "131    5      6  2017              6                  10   952         488\n",
      "132    5      7  2016              6                  10  1236         719\n",
      "133    5      7  2017              6                  10  1211         676\n",
      "134    5      8  2016              6                  10  1000         743\n",
      "135    5      8  2017              6                  10   938         735\n",
      "136    5      9  2016              6                  10   906         406\n",
      "137    5      9  2017              6                  10  1210         533\n",
      "138    5     10  2016              6                  10  1167         614\n",
      "139    5     10  2017              6                  10  1005         441\n",
      "140    5     11  2016              6                  10   954         526\n",
      "141    5     11  2017              6                  10   985         427\n",
      "142    5     12  2016              6                  10  1147        1448\n",
      "143    5     12  2017              6                  10  1212        1188\n",
      "144    6      1  2016              6                  10  1129         499\n",
      "145    6      1  2017              6                  10  1035         506\n",
      "146    6      2  2016              6                  10   937         462\n",
      "147    6      2  2017              6                  10   915         325\n",
      "148    6      3  2016              6                  10   897         748\n",
      "149    6      3  2017              6                  10   901         462\n",
      "150    6      4  2016              6                  10   938         471\n",
      "151    6      4  2017              6                  10  1138         495\n",
      "152    6      5  2016              6                  10  1172         842\n",
      "153    6      5  2017              6                  10   968         643\n",
      "154    6      6  2016              6                  10   924         527\n",
      "155    6      6  2017              6                  10   876         406\n",
      "156    6      7  2016              6                  10  1203         620\n",
      "157    6      7  2017              6                  10  1178         535\n",
      "158    6      8  2016              6                  10   942         510\n",
      "159    6      8  2017              6                  10   923         479\n",
      "160    6      9  2016              6                  10   877         331\n",
      "161    6      9  2017              6                  10   864         312\n",
      "162    6     10  2016              6                  10  1111         626\n",
      "163    6     10  2017              6                  10  1138         606\n",
      "164    6     11  2016              6                  10   940         534\n",
      "165    6     11  2017              6                  10   916         427\n",
      "166    6     12  2016              6                  10   874         694\n",
      "167    6     12  2017              6                  10  1071         682\n"
     ]
    }
   ],
   "source": [
    "print(grouped_df.to_string())\n",
    "#burada Berkeley ile Sanfransisco arasında oturarak yolculuk edilecek saati aradım ama saati rakama dönüştürdüğüm halde burada 3-4 basamaklı sayılar çıktı Hours ta"
   ]
  },
  {
   "cell_type": "code",
   "execution_count": 52,
   "id": "5167d94a",
   "metadata": {},
   "outputs": [],
   "source": [
    "df4=pd.read_csv('station_coords.csv')  #istasyonların enlem boylam dosyası"
   ]
  },
  {
   "cell_type": "code",
   "execution_count": 53,
   "id": "b1668650",
   "metadata": {},
   "outputs": [],
   "source": [
    "df4.drop([\"Unnamed: 0\"],axis=1,inplace=True)"
   ]
  },
  {
   "cell_type": "code",
   "execution_count": 54,
   "id": "af419280",
   "metadata": {},
   "outputs": [
    {
     "data": {
      "text/html": [
       "<div>\n",
       "<style scoped>\n",
       "    .dataframe tbody tr th:only-of-type {\n",
       "        vertical-align: middle;\n",
       "    }\n",
       "\n",
       "    .dataframe tbody tr th {\n",
       "        vertical-align: top;\n",
       "    }\n",
       "\n",
       "    .dataframe thead th {\n",
       "        text-align: right;\n",
       "    }\n",
       "</style>\n",
       "<table border=\"1\" class=\"dataframe\">\n",
       "  <thead>\n",
       "    <tr style=\"text-align: right;\">\n",
       "      <th></th>\n",
       "      <th>station_name</th>\n",
       "      <th>latitute</th>\n",
       "      <th>longitude</th>\n",
       "    </tr>\n",
       "  </thead>\n",
       "  <tbody>\n",
       "    <tr>\n",
       "      <th>0</th>\n",
       "      <td>12TH</td>\n",
       "      <td>798</td>\n",
       "      <td>702</td>\n",
       "    </tr>\n",
       "    <tr>\n",
       "      <th>1</th>\n",
       "      <td>19TH</td>\n",
       "      <td>798</td>\n",
       "      <td>655</td>\n",
       "    </tr>\n",
       "    <tr>\n",
       "      <th>2</th>\n",
       "      <td>MCAR</td>\n",
       "      <td>802</td>\n",
       "      <td>607</td>\n",
       "    </tr>\n",
       "    <tr>\n",
       "      <th>3</th>\n",
       "      <td>16TH</td>\n",
       "      <td>375</td>\n",
       "      <td>948</td>\n",
       "    </tr>\n",
       "    <tr>\n",
       "      <th>4</th>\n",
       "      <td>CIVC</td>\n",
       "      <td>397</td>\n",
       "      <td>915</td>\n",
       "    </tr>\n",
       "  </tbody>\n",
       "</table>\n",
       "</div>"
      ],
      "text/plain": [
       "  station_name  latitute  longitude\n",
       "0         12TH       798        702\n",
       "1         19TH       798        655\n",
       "2         MCAR       802        607\n",
       "3         16TH       375        948\n",
       "4         CIVC       397        915"
      ]
     },
     "execution_count": 54,
     "metadata": {},
     "output_type": "execute_result"
    }
   ],
   "source": [
    "df4.head()"
   ]
  },
  {
   "cell_type": "code",
   "execution_count": 55,
   "id": "e838e616",
   "metadata": {},
   "outputs": [
    {
     "name": "stdout",
     "output_type": "stream",
     "text": [
      "İki istasyon arasındaki mesafe: 1196.6519961960537 birim\n"
     ]
    }
   ],
   "source": [
    "#SanFransisco ve Berkeley arasındaki mesafeyi ölçtük\n",
    "\n",
    "import math\n",
    "\n",
    "# İstasyonların koordinatlarını tanımladık\n",
    "sfia_coordinates = (485, -1321)  # San Fransisco'nun koordinatları (latitude, longitude)\n",
    "bery_coordinates = (1535, -1895)  # Berkeley'nin koordinatları (latitude, longitude)\n",
    "\n",
    "# İki istasyon arasındaki mesafeyi hesapladı\n",
    "distance = math.sqrt((sfia_coordinates[0] - bery_coordinates[0])**2 + (sfia_coordinates[1] - bery_coordinates[1])**2)\n",
    "\n",
    "print(\"İki istasyon arasındaki mesafe:\", distance, \"birim\")"
   ]
  },
  {
   "cell_type": "raw",
   "id": "c867b6d1",
   "metadata": {},
   "source": [
    "Herhangi 2 istasyon arasında gidip gelen insan sayısını tahmin etmek için regression modeli yaparız."
   ]
  },
  {
   "cell_type": "code",
   "execution_count": 56,
   "id": "65b8fe9c",
   "metadata": {},
   "outputs": [],
   "source": [
    "x=df[['Origin Station','Destination Station','Hour','Day',\n",
    "       'Month', 'Year', 'WeekDay', 'Month_Name']]\n",
    "y=df[['Trip Count']]"
   ]
  },
  {
   "cell_type": "code",
   "execution_count": 60,
   "id": "346261a2",
   "metadata": {},
   "outputs": [],
   "source": [
    "x_train,x_test,y_train,y_test=train_test_split(x,y,test_size=0.20,random_state=42)"
   ]
  },
  {
   "cell_type": "code",
   "execution_count": null,
   "id": "cace0527",
   "metadata": {},
   "outputs": [],
   "source": [
    "dt=DesicionTreeRegressor()"
   ]
  },
  {
   "cell_type": "code",
   "execution_count": 71,
   "id": "ae54caf7",
   "metadata": {},
   "outputs": [],
   "source": [
    "model1=dt.fit(x_train, y_train)"
   ]
  },
  {
   "cell_type": "code",
   "execution_count": 72,
   "id": "c2ce0f62",
   "metadata": {},
   "outputs": [],
   "source": [
    "tahmin1=model1.predict(x_test)"
   ]
  },
  {
   "cell_type": "code",
   "execution_count": 73,
   "id": "e56cf2f8",
   "metadata": {},
   "outputs": [
    {
     "data": {
      "text/plain": [
       "0.8755551764157345"
      ]
     },
     "execution_count": 73,
     "metadata": {},
     "output_type": "execute_result"
    }
   ],
   "source": [
    "r2_score(tahmin1,y_test)"
   ]
  },
  {
   "cell_type": "code",
   "execution_count": 74,
   "id": "70134656",
   "metadata": {},
   "outputs": [
    {
     "data": {
      "text/plain": [
       "11.420485675427452"
      ]
     },
     "execution_count": 74,
     "metadata": {},
     "output_type": "execute_result"
    }
   ],
   "source": [
    "mean_squared_error(tahmin1,y_test)**.5"
   ]
  },
  {
   "cell_type": "code",
   "execution_count": null,
   "id": "5e1e87f0",
   "metadata": {},
   "outputs": [],
   "source": [
    "#model başarılı oldu,diğer algortimalar yüksek başarı vermediği için sildim"
   ]
  },
  {
   "cell_type": "code",
   "execution_count": 75,
   "id": "f1803c7a",
   "metadata": {},
   "outputs": [],
   "source": [
    "df.to_pickle('bart_project.pkl')"
   ]
  },
  {
   "cell_type": "code",
   "execution_count": null,
   "id": "3a45a47a",
   "metadata": {},
   "outputs": [],
   "source": [
    "#pip install pycaret"
   ]
  },
  {
   "cell_type": "code",
   "execution_count": null,
   "id": "9b1edba3",
   "metadata": {},
   "outputs": [],
   "source": [
    "#from pycaret.regression import* "
   ]
  },
  {
   "cell_type": "code",
   "execution_count": null,
   "id": "d91db362",
   "metadata": {},
   "outputs": [],
   "source": [
    "#df=pd.read_pickle('bart_project.pkl')"
   ]
  },
  {
   "cell_type": "code",
   "execution_count": null,
   "id": "f58dd01a",
   "metadata": {},
   "outputs": [],
   "source": [
    "#setup(data=df,target='Trip Count')"
   ]
  },
  {
   "cell_type": "code",
   "execution_count": null,
   "id": "d7f24c66",
   "metadata": {},
   "outputs": [],
   "source": [
    "#bestmodel=compare_models()"
   ]
  },
  {
   "cell_type": "code",
   "execution_count": null,
   "id": "fb2f3f7d",
   "metadata": {},
   "outputs": [],
   "source": [
    "#best_model=create_model('')"
   ]
  },
  {
   "cell_type": "code",
   "execution_count": null,
   "id": "9239e3a1",
   "metadata": {},
   "outputs": [],
   "source": [
    "#plot_model(best_model,plot='feature')"
   ]
  }
 ],
 "metadata": {
  "kernelspec": {
   "display_name": "Python 3 (ipykernel)",
   "language": "python",
   "name": "python3"
  },
  "language_info": {
   "codemirror_mode": {
    "name": "ipython",
    "version": 3
   },
   "file_extension": ".py",
   "mimetype": "text/x-python",
   "name": "python",
   "nbconvert_exporter": "python",
   "pygments_lexer": "ipython3",
   "version": "3.11.7"
  }
 },
 "nbformat": 4,
 "nbformat_minor": 5
}
